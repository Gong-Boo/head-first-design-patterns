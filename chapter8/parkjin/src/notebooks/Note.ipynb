{
 "cells": [
  {
   "cell_type": "markdown",
   "source": [
    "# Coffee 클래스와 Tea 클래스 만들기"
   ],
   "metadata": {
    "collapsed": false
   }
  },
  {
   "cell_type": "markdown",
   "source": [
    "## 메뉴얼\n",
    "\n",
    "#### 커피\n",
    "1. 물을 끓인다.\n",
    "2. 끓는 물에 커피를 우려낸다.\n",
    "3. 커피를 컵에 따른다.\n",
    "4. 설탕과 우유를 추가한다\n",
    "\n",
    "#### 홍차\n",
    "1. 물을 끓인다\n",
    "2. 끓는 물에 찻잎을 우려낸다\n",
    "3. 홍차를 컵에 따른다\n",
    "4. 레몬을 추가한다 "
   ],
   "metadata": {
    "collapsed": false
   }
  },
  {
   "cell_type": "code",
   "execution_count": 1,
   "outputs": [],
   "source": [
    "class Coffee {\n",
    "    \n",
    "    fun prepareRecipe() {\n",
    "        boilWater()\n",
    "        brewCoffeeGrinds()\n",
    "        pourInCup()\n",
    "        addSugarAndMilk()\n",
    "    }\n",
    "    \n",
    "    fun boilWater() {\n",
    "        println(\"물 끓이는 중\")\n",
    "    }\n",
    "    \n",
    "    fun brewCoffeeGrinds() {\n",
    "        println(\"필터로 커피를 우려내는 중\")\n",
    "    }\n",
    "    \n",
    "    fun pourInCup() {\n",
    "        println(\"컵에 따르는 중\")\n",
    "    }\n",
    "    \n",
    "    fun addSugarAndMilk() {\n",
    "        println(\"설탕과 우유를 추가하는 중\")\n",
    "    }\n",
    "}"
   ],
   "metadata": {
    "collapsed": false,
    "ExecuteTime": {
     "end_time": "2023-08-07T16:10:47.722254Z",
     "start_time": "2023-08-07T16:10:47.570654Z"
    }
   }
  },
  {
   "cell_type": "code",
   "execution_count": 2,
   "outputs": [
    {
     "name": "stdout",
     "output_type": "stream",
     "text": [
      "물 끓이는 중\n",
      "필터로 커피를 우려내는 중\n",
      "컵에 따르는 중\n",
      "설탕과 우유를 추가하는 중\n"
     ]
    }
   ],
   "source": [
    "val coffee: Coffee = Coffee()\n",
    "coffee.prepareRecipe()"
   ],
   "metadata": {
    "collapsed": false,
    "ExecuteTime": {
     "end_time": "2023-08-07T16:10:47.793131Z",
     "start_time": "2023-08-07T16:10:47.723457Z"
    }
   }
  },
  {
   "cell_type": "code",
   "execution_count": 3,
   "outputs": [],
   "source": [
    "class Tea {\n",
    "\n",
    "    fun prepareRecipe() {\n",
    "        boilWater()\n",
    "        steepTeaBag()\n",
    "        addLemon()\n",
    "        pourInCup()\n",
    "    }\n",
    "    \n",
    "    fun boilWater() {\n",
    "        println(\"물 끓이는 중\")\n",
    "    }\n",
    "    \n",
    "    fun steepTeaBag() {\n",
    "        println(\"찻잎을 우려내는 중\")\n",
    "    }\n",
    "    \n",
    "    fun addLemon() {\n",
    "        println(\"레몬을 추가하는 중\")\n",
    "    }\n",
    "    \n",
    "    fun pourInCup() {\n",
    "        println(\"컵에 따르는 중\")\n",
    "    }\n",
    "}"
   ],
   "metadata": {
    "collapsed": false,
    "ExecuteTime": {
     "end_time": "2023-08-07T16:10:47.868489Z",
     "start_time": "2023-08-07T16:10:47.792959Z"
    }
   }
  },
  {
   "cell_type": "code",
   "execution_count": 4,
   "outputs": [
    {
     "name": "stdout",
     "output_type": "stream",
     "text": [
      "물 끓이는 중\n",
      "찻잎을 우려내는 중\n",
      "레몬을 추가하는 중\n",
      "컵에 따르는 중\n"
     ]
    }
   ],
   "source": [
    "val tea: Tea = Tea()\n",
    "tea.prepareRecipe()"
   ],
   "metadata": {
    "collapsed": false,
    "ExecuteTime": {
     "end_time": "2023-08-07T16:10:47.903205Z",
     "start_time": "2023-08-07T16:10:47.869613Z"
    }
   }
  },
  {
   "cell_type": "markdown",
   "source": [
    "### 정리\n",
    "\n",
    "- Coffee와 Tea 클래스가 각각 작업을 처리한다. 두 클래스에서 각자 알고리즘을 수행한다.\n",
    "- Coffee와 Tea 클래스에 중복된 코드가 있다.\n",
    "- 알고리즘이 바뀌면 서브 클래스에서 일일이 열어서 여러 군데를 고쳐야 한다\n",
    "- 클래스 구조상 새로운 음료를 추가하려면 꽤 많은 일을 해야 한다\n",
    "- 알고리즘 지식과 구현 방법이 여러 클래스에 분산되어 있다 "
   ],
   "metadata": {
    "collapsed": false
   }
  },
  {
   "cell_type": "markdown",
   "source": [
    "# Coffee 클래스와 Tea 클래스 추상화하기"
   ],
   "metadata": {
    "collapsed": false
   }
  },
  {
   "cell_type": "markdown",
   "source": [
    "## prepareRecipe 메소드 추상화하기"
   ],
   "metadata": {
    "collapsed": false
   }
  },
  {
   "cell_type": "code",
   "execution_count": 5,
   "outputs": [],
   "source": [
    "abstract class CaffeinBeverage {\n",
    "    \n",
    "    final fun prepareRecipe() {\n",
    "        boilWater()\n",
    "        brew()\n",
    "        pourInCup()\n",
    "        addCondiments()\n",
    "    }\n",
    "    \n",
    "    abstract fun brew()\n",
    "    \n",
    "    abstract fun addCondiments()\n",
    "    \n",
    "    fun boilWater() {\n",
    "        println(\"물 끓이는 중\")\n",
    "    }\n",
    "    \n",
    "    fun pourInCup() {\n",
    "        println(\"컵에 따르는 중\")\n",
    "    }\n",
    "}"
   ],
   "metadata": {
    "collapsed": false,
    "ExecuteTime": {
     "end_time": "2023-08-07T16:10:47.963617Z",
     "start_time": "2023-08-07T16:10:47.904567Z"
    }
   }
  },
  {
   "cell_type": "code",
   "execution_count": 6,
   "outputs": [],
   "source": [
    "class Tea : CaffeinBeverage() {\n",
    "    override fun addCondiments() {\n",
    "        println(\"찻잎을 우려내는 중\")\n",
    "    }\n",
    "\n",
    "    override fun brew() {\n",
    "        println(\"레몬을 추가하는 중\")\n",
    "    }\n",
    "}"
   ],
   "metadata": {
    "collapsed": false,
    "ExecuteTime": {
     "end_time": "2023-08-07T16:10:48.018336Z",
     "start_time": "2023-08-07T16:10:47.964444Z"
    }
   }
  },
  {
   "cell_type": "code",
   "execution_count": 7,
   "outputs": [
    {
     "name": "stdout",
     "output_type": "stream",
     "text": [
      "물 끓이는 중\n",
      "레몬을 추가하는 중\n",
      "컵에 따르는 중\n",
      "찻잎을 우려내는 중\n"
     ]
    }
   ],
   "source": [
    "val tea: Tea = Tea()\n",
    "tea.prepareRecipe()"
   ],
   "metadata": {
    "collapsed": false,
    "ExecuteTime": {
     "end_time": "2023-08-07T16:10:48.055361Z",
     "start_time": "2023-08-07T16:10:48.019248Z"
    }
   }
  },
  {
   "cell_type": "code",
   "execution_count": 8,
   "outputs": [],
   "source": [
    "class Coffee : CaffeinBeverage() {\n",
    "    override fun addCondiments() {\n",
    "        println(\"필터로 커피를 우려내는 중\")\n",
    "    }\n",
    "\n",
    "    override fun brew() {\n",
    "        println(\"설탕과 우유를 추가하는 중\")\n",
    "    }\n",
    "}"
   ],
   "metadata": {
    "collapsed": false,
    "ExecuteTime": {
     "end_time": "2023-08-07T16:10:48.111474Z",
     "start_time": "2023-08-07T16:10:48.053203Z"
    }
   }
  },
  {
   "cell_type": "code",
   "execution_count": 9,
   "outputs": [
    {
     "name": "stdout",
     "output_type": "stream",
     "text": [
      "물 끓이는 중\n",
      "설탕과 우유를 추가하는 중\n",
      "컵에 따르는 중\n",
      "필터로 커피를 우려내는 중\n"
     ]
    }
   ],
   "source": [
    "val coffee: Coffee = Coffee()\n",
    "coffee.prepareRecipe()"
   ],
   "metadata": {
    "collapsed": false,
    "ExecuteTime": {
     "end_time": "2023-08-07T16:10:48.149060Z",
     "start_time": "2023-08-07T16:10:48.110476Z"
    }
   }
  },
  {
   "cell_type": "markdown",
   "source": [
    "# 템플릿 메소드 패턴 알아보기"
   ],
   "metadata": {
    "collapsed": false
   }
  },
  {
   "cell_type": "markdown",
   "source": [
    "#### prepareRecipe 메소드가 템플릿 메소드이다.\n",
    "\n",
    "1. 메소드이다\n",
    "2. 어떤 알고리즘의 템플릿(틀) 역할을 한다"
   ],
   "metadata": {
    "collapsed": false
   }
  },
  {
   "cell_type": "markdown",
   "source": [
    "### 홍차가 만들어지기까지"
   ],
   "metadata": {
    "collapsed": false
   }
  },
  {
   "cell_type": "code",
   "execution_count": 10,
   "outputs": [
    {
     "name": "stdout",
     "output_type": "stream",
     "text": [
      "물 끓이는 중\n",
      "레몬을 추가하는 중\n",
      "컵에 따르는 중\n",
      "찻잎을 우려내는 중\n",
      "-----\n",
      "물 끓이는 중\n",
      "레몬을 추가하는 중\n",
      "컵에 따르는 중\n",
      "찻잎을 우려내는 중\n"
     ]
    }
   ],
   "source": [
    "val myTea: Tea = Tea()\n",
    "myTea.prepareRecipe()\n",
    "\n",
    "println(\"-----\")\n",
    "\n",
    "myTea.boilWater()\n",
    "myTea.brew()\n",
    "myTea.pourInCup()\n",
    "myTea.addCondiments()"
   ],
   "metadata": {
    "collapsed": false,
    "ExecuteTime": {
     "end_time": "2023-08-07T16:10:48.202450Z",
     "start_time": "2023-08-07T16:10:48.148978Z"
    }
   }
  },
  {
   "cell_type": "markdown",
   "source": [
    "### 정리\n",
    "\n",
    "- CaffeinBeverage 클래스에서 알고리즘을 독점하여 작업을 처리한다.\n",
    "- CaffeinBeverage 덕분에 서브클래스에서 코드를 재사용할 수 있다.\n",
    "- 알고리즘이 한 군데에 모여 있으므로 한 부분만 고치면 된다.\n",
    "- 다른 음료도 쉽게 추가할 수 있는 프레임워크를 제공한다. 음료를 추가할 때 몇 가지 메소드만 더 만들면 된다\n",
    "- CaffeinBeverage 클래스에 알고리즘 지식이 집중되어 있으며 일부 구현만 서브클래스에 의존한다"
   ],
   "metadata": {
    "collapsed": false
   }
  },
  {
   "cell_type": "markdown",
   "source": [
    "# 템플릿 메소드 패턴의 정의"
   ],
   "metadata": {
    "collapsed": false
   }
  },
  {
   "cell_type": "markdown",
   "source": [
    "템플릿 메소드 패턴은 알고리즘의 골격을 정의한다. \n",
    "템플릿 메소드를 사용하면 알고리즘의 일부 단계를 서브클래스에서 구현할 수 있으며,\n",
    "알고리즘의 구조는 그대로 유지하면서 알고리즘의 특정 단계를 서븡 클래스에서 재정의 할 수 있다."
   ],
   "metadata": {
    "collapsed": false
   }
  },
  {
   "cell_type": "markdown",
   "source": [
    "# 템플릿 메소드 속 후크 알아보기"
   ],
   "metadata": {
    "collapsed": false
   }
  },
  {
   "cell_type": "markdown",
   "source": [
    "후크(hook)는 추상 클래스에서 선언되지만 기본적인 내용만 구현되어 있거나 아무 코드도 들어있지 않은 메소드이다"
   ],
   "metadata": {
    "collapsed": false
   }
  },
  {
   "cell_type": "code",
   "execution_count": 11,
   "outputs": [],
   "source": [
    "abstract class CaffeinBeverageWithHook {\n",
    "    \n",
    "    final fun prepareRecipe() {\n",
    "        boilWater()\n",
    "        brew()\n",
    "        pourInCup()\n",
    "        \n",
    "        if (customerWantsCondiments()) {\n",
    "            addCondiments()\n",
    "        }\n",
    "    }\n",
    "    \n",
    "    abstract fun brew()\n",
    "    \n",
    "    abstract fun addCondiments()\n",
    "    \n",
    "    fun boilWater() {\n",
    "        println(\"물 끓이는 중\")\n",
    "    }\n",
    "    \n",
    "    fun pourInCup() {\n",
    "        println(\"컵에 따르는 중\")\n",
    "    }\n",
    "    \n",
    "    open fun customerWantsCondiments(): Boolean {\n",
    "        return true\n",
    "    }\n",
    "}"
   ],
   "metadata": {
    "collapsed": false,
    "ExecuteTime": {
     "end_time": "2023-08-07T16:10:48.262508Z",
     "start_time": "2023-08-07T16:10:48.200669Z"
    }
   }
  },
  {
   "cell_type": "code",
   "execution_count": 12,
   "outputs": [],
   "source": [
    "class CoffeeWithHook : CaffeinBeverageWithHook() {\n",
    "\n",
    "    override fun addCondiments() {\n",
    "        println(\"필터로 커피를 우려내는 중\")\n",
    "    }\n",
    "\n",
    "    override fun brew() {\n",
    "        println(\"설탕과 우유를 추가하는 중\")\n",
    "    }\n",
    "    \n",
    "    override fun customerWantsCondiments(): Boolean {\n",
    "        return getUserInput().lowercase().startsWith(\"y\")\n",
    "    }\n",
    "    \n",
    "    private fun getUserInput(): String {\n",
    "        println(\"커피에 우유와 설탕을 넣을까요?\")\n",
    "        return \"yes\"\n",
    "    }\n",
    "}"
   ],
   "metadata": {
    "collapsed": false,
    "ExecuteTime": {
     "end_time": "2023-08-07T16:10:48.347278Z",
     "start_time": "2023-08-07T16:10:48.262851Z"
    }
   }
  },
  {
   "cell_type": "markdown",
   "source": [
    "# 후크 코드 테스트"
   ],
   "metadata": {
    "collapsed": false
   }
  },
  {
   "cell_type": "code",
   "execution_count": 13,
   "outputs": [
    {
     "name": "stdout",
     "output_type": "stream",
     "text": [
      "커피 준비 중...\n",
      "물 끓이는 중\n",
      "설탕과 우유를 추가하는 중\n",
      "컵에 따르는 중\n",
      "커피에 우유와 설탕을 넣을까요?\n",
      "필터로 커피를 우려내는 중\n"
     ]
    }
   ],
   "source": [
    "val coffeeWithHook: CoffeeWithHook = CoffeeWithHook()\n",
    "\n",
    "println(\"커피 준비 중...\")\n",
    "\n",
    "coffeeWithHook.prepareRecipe()"
   ],
   "metadata": {
    "collapsed": false,
    "ExecuteTime": {
     "end_time": "2023-08-07T16:10:48.387069Z",
     "start_time": "2023-08-07T16:10:48.347826Z"
    }
   }
  },
  {
   "cell_type": "markdown",
   "source": [
    "# 할리우드 원칙\n",
    "> 먼저 연락하지 마세요. 저희가 연락드리겠습니다."
   ],
   "metadata": {
    "collapsed": false
   }
  },
  {
   "cell_type": "markdown",
   "source": [
    "할리우드 원칙을 통해 **의존성 부패**를 방지 가능하다"
   ],
   "metadata": {
    "collapsed": false
   }
  },
  {
   "cell_type": "code",
   "execution_count": 14,
   "outputs": [],
   "source": [],
   "metadata": {
    "collapsed": false,
    "ExecuteTime": {
     "end_time": "2023-08-07T16:10:48.391975Z",
     "start_time": "2023-08-07T16:10:48.387272Z"
    }
   }
  }
 ],
 "metadata": {
  "kernelspec": {
   "display_name": "Kotlin",
   "language": "kotlin",
   "name": "kotlin"
  },
  "language_info": {
   "name": "kotlin",
   "version": "1.8.20",
   "mimetype": "text/x-kotlin",
   "file_extension": ".kt",
   "pygments_lexer": "kotlin",
   "codemirror_mode": "text/x-kotlin",
   "nbconvert_exporter": ""
  }
 },
 "nbformat": 4,
 "nbformat_minor": 0
}
